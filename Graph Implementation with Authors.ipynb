{
 "cells": [
  {
   "cell_type": "code",
   "execution_count": 1,
   "metadata": {},
   "outputs": [],
   "source": [
    "#import relevant packages\n",
    "import numpy as np\n",
    "import pandas as pd\n",
    "import matplotlib.pyplot as plt\n",
    "import networkx as nx\n",
    "import seaborn as sns\n",
    "from node2vec import Node2Vec"
   ]
  },
  {
   "cell_type": "code",
   "execution_count": 2,
   "metadata": {},
   "outputs": [],
   "source": [
    "G=nx.read_gpickle(\"AuthorGraph.gpickle\")"
   ]
  },
  {
   "cell_type": "code",
   "execution_count": 3,
   "metadata": {},
   "outputs": [
    {
     "name": "stdout",
     "output_type": "stream",
     "text": [
      "Name: \n",
      "Type: Graph\n",
      "Number of nodes: 1069645\n",
      "Number of edges: 42624678\n",
      "Average degree:  79.6987\n"
     ]
    }
   ],
   "source": [
    "#Sort the graph (only made from -0.json file)\n",
    "print(nx.info(G))\n",
    "ccG = sorted(nx.connected_components(G), key = len, reverse=True)"
   ]
  },
  {
   "cell_type": "markdown",
   "metadata": {},
   "source": [
    "### Small subgraph for quick implementation"
   ]
  },
  {
   "cell_type": "code",
   "execution_count": 8,
   "metadata": {},
   "outputs": [
    {
     "data": {
      "text/plain": [
       "'Name: \\nType: Graph\\nNumber of nodes: 83\\nNumber of edges: 3403\\nAverage degree:  82.0000'"
      ]
     },
     "execution_count": 8,
     "metadata": {},
     "output_type": "execute_result"
    }
   ],
   "source": [
    "i = 0\n",
    "# first subgraph still has 1.7 million nodes so it's too big\n",
    "for c in ccG:\n",
    "  i += 1\n",
    "  if i==2:\n",
    "    second_subgroup = G.subgraph(c)\n",
    "    break\n",
    "nx.info(second_subgroup)"
   ]
  },
  {
   "cell_type": "markdown",
   "metadata": {},
   "source": [
    "## Start here to run test file"
   ]
  },
  {
   "cell_type": "code",
   "execution_count": 10,
   "metadata": {},
   "outputs": [],
   "source": [
    "#subG = nx.read_gpickle(\"subgroupgraph.gpickle\")\n",
    "subG = second_subgroup"
   ]
  },
  {
   "cell_type": "code",
   "execution_count": 11,
   "metadata": {},
   "outputs": [
    {
     "name": "stderr",
     "output_type": "stream",
     "text": [
      "Computing transition probabilities: 100%|██████████| 83/83 [00:03<00:00, 21.49it/s]\n"
     ]
    }
   ],
   "source": [
    "node2vec = Node2Vec(subG, dimensions=20, walk_length=5, num_walks=100, workers=2)"
   ]
  },
  {
   "cell_type": "code",
   "execution_count": 12,
   "metadata": {},
   "outputs": [],
   "source": [
    "model = node2vec.fit(window=10, min_count=1)"
   ]
  },
  {
   "cell_type": "code",
   "execution_count": 13,
   "metadata": {},
   "outputs": [
    {
     "data": {
      "text/plain": [
       "NodeView(('nschuhler', 'pbarriga', 'tguerlet', 'tmoulin', 'jpaufique', 'ameister', 'lpettazzi', 'ipercheron', 'amerand', 'gzins', 'blopez', 'pdarr', 'ahaimerl', 'pbergerj', 'pbourget', 'fdelplanckestrbele', 'sguieu', 'cheritier', 'shuber', 'feisenhauer', 'opfuhl', 'pkrempl', 'aabadj', 'rdembet', 'rdorn', 'rridings', 'pgitton', 'wpirani', 'pkirchbauerj', 'xhaubois', 'cstephan', 'landolfato', 'segner', 'gvaldes', 'blebouquinj', 'ymagnard', 'jkolb', 'gsantostoms', 'jalonso', 'ecottalorda', 'eallercarpentier', 'srochat', 'dphan', 'ljocou', 'lbeuzitj', 'mriedel', 'pjolley', 'jdupeyron', 'cdupuy', 'fgont', 'cschmid', 'bdelabre', 'pgutierrez', 'cverinaud', 'msurez', 'arakich', 'jkosmalski', 'rdonaldson', 'smclay', 'ameilland', 'jreyes', 'rabuter', 'rbrast', 'mseidel', 'pshchekaturov', 'nhubin', 'gfischer', 'szigafernndez', 'mtodorovic', 'plilley', 'lcaniguante', 'jquentin', 'mlelouarn', 'csoenke', 'gbourdarot', 'hbonnet', 'adelboulb', 'estadler', 'lpasquini', 'efuenteseca', 'phaguenauer', 'cfrank', 'jwoillez'))"
      ]
     },
     "execution_count": 13,
     "metadata": {},
     "output_type": "execute_result"
    }
   ],
   "source": [
    "subG.nodes"
   ]
  },
  {
   "cell_type": "code",
   "execution_count": 39,
   "metadata": {},
   "outputs": [],
   "source": [
    "dblp = pd.read_csv('titles_dblp_v10.csv')"
   ]
  },
  {
   "cell_type": "markdown",
   "metadata": {},
   "source": [
    "### Pull up similar articles :)"
   ]
  },
  {
   "cell_type": "code",
   "execution_count": 14,
   "metadata": {},
   "outputs": [
    {
     "name": "stdout",
     "output_type": "stream",
     "text": [
      "jpaufique\n",
      "cfrank\n",
      "wpirani\n",
      "estadler\n",
      "cschmid\n",
      "nschuhler\n",
      "pkrempl\n",
      "pbarriga\n",
      "bdelabre\n",
      "jreyes\n"
     ]
    },
    {
     "name": "stderr",
     "output_type": "stream",
     "text": [
      "/opt/ohpc/pub/apps/python3/3.7.0/lib/python3.7/site-packages/ipykernel_launcher.py:1: DeprecationWarning: Call to deprecated `most_similar` (Method will be removed in 4.0.0, use self.wv.most_similar() instead).\n",
      "  \"\"\"Entry point for launching an IPython kernel.\n",
      "/opt/ohpc/pub/apps/python3/3.7.0/lib/python3.7/site-packages/gensim/matutils.py:737: FutureWarning: Conversion of the second argument of issubdtype from `int` to `np.signedinteger` is deprecated. In future, it will be treated as `np.int64 == np.dtype(int).type`.\n",
      "  if np.issubdtype(vec.dtype, np.int):\n"
     ]
    }
   ],
   "source": [
    "for node, _ in model.most_similar('mtodorovic'):\n",
    "    print(node)"
   ]
  },
  {
   "cell_type": "code",
   "execution_count": null,
   "metadata": {},
   "outputs": [],
   "source": []
  }
 ],
 "metadata": {
  "kernelspec": {
   "display_name": "Python 3",
   "language": "python",
   "name": "python3"
  },
  "language_info": {
   "codemirror_mode": {
    "name": "ipython",
    "version": 3
   },
   "file_extension": ".py",
   "mimetype": "text/x-python",
   "name": "python",
   "nbconvert_exporter": "python",
   "pygments_lexer": "ipython3",
   "version": "3.7.0"
  }
 },
 "nbformat": 4,
 "nbformat_minor": 2
}
